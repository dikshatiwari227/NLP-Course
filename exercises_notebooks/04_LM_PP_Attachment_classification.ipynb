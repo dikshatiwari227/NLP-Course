{
  "nbformat": 4,
  "nbformat_minor": 0,
  "metadata": {
    "colab": {
      "name": "04_LM_PP_Attachment_classification",
      "provenance": [],
      "collapsed_sections": [
        "ZEHsHqnBEnM0",
        "MRYNWqK-Gu3F",
        "vyls_Vs7MxYj",
        "w8v47ip3OkRi"
      ],
      "toc_visible": true,
      "authorship_tag": "ABX9TyPVA4Zg6L1ol2bLAqIWMqZZ",
      "include_colab_link": true
    },
    "kernelspec": {
      "name": "python3",
      "display_name": "Python 3"
    },
    "widgets": {
      "application/vnd.jupyter.widget-state+json": {
        "15def7471fd448b789e14f7cbed44891": {
          "model_module": "@jupyter-widgets/controls",
          "model_name": "HBoxModel",
          "state": {
            "_view_name": "HBoxView",
            "_dom_classes": [],
            "_model_name": "HBoxModel",
            "_view_module": "@jupyter-widgets/controls",
            "_model_module_version": "1.5.0",
            "_view_count": null,
            "_view_module_version": "1.5.0",
            "box_style": "",
            "layout": "IPY_MODEL_1d09f2ca67134eb4bd0c7aef7e54fe58",
            "_model_module": "@jupyter-widgets/controls",
            "children": [
              "IPY_MODEL_018d4d67be70470cb0c67bd451f10dd8",
              "IPY_MODEL_181bb9b406bb4543afbb1d19b4b3abef"
            ]
          }
        },
        "1d09f2ca67134eb4bd0c7aef7e54fe58": {
          "model_module": "@jupyter-widgets/base",
          "model_name": "LayoutModel",
          "state": {
            "_view_name": "LayoutView",
            "grid_template_rows": null,
            "right": null,
            "justify_content": null,
            "_view_module": "@jupyter-widgets/base",
            "overflow": null,
            "_model_module_version": "1.2.0",
            "_view_count": null,
            "flex_flow": null,
            "width": null,
            "min_width": null,
            "border": null,
            "align_items": null,
            "bottom": null,
            "_model_module": "@jupyter-widgets/base",
            "top": null,
            "grid_column": null,
            "overflow_y": null,
            "overflow_x": null,
            "grid_auto_flow": null,
            "grid_area": null,
            "grid_template_columns": null,
            "flex": null,
            "_model_name": "LayoutModel",
            "justify_items": null,
            "grid_row": null,
            "max_height": null,
            "align_content": null,
            "visibility": null,
            "align_self": null,
            "height": null,
            "min_height": null,
            "padding": null,
            "grid_auto_rows": null,
            "grid_gap": null,
            "max_width": null,
            "order": null,
            "_view_module_version": "1.2.0",
            "grid_template_areas": null,
            "object_position": null,
            "object_fit": null,
            "grid_auto_columns": null,
            "margin": null,
            "display": null,
            "left": null
          }
        },
        "018d4d67be70470cb0c67bd451f10dd8": {
          "model_module": "@jupyter-widgets/controls",
          "model_name": "FloatProgressModel",
          "state": {
            "_view_name": "ProgressView",
            "style": "IPY_MODEL_91d1823842864755925dce759fe0c159",
            "_dom_classes": [],
            "description": "",
            "_model_name": "FloatProgressModel",
            "bar_style": "success",
            "max": 1,
            "_view_module": "@jupyter-widgets/controls",
            "_model_module_version": "1.5.0",
            "value": 1,
            "_view_count": null,
            "_view_module_version": "1.5.0",
            "orientation": "horizontal",
            "min": 0,
            "description_tooltip": null,
            "_model_module": "@jupyter-widgets/controls",
            "layout": "IPY_MODEL_d18b80fee0a148a88d65b21a9a1b8dc3"
          }
        },
        "181bb9b406bb4543afbb1d19b4b3abef": {
          "model_module": "@jupyter-widgets/controls",
          "model_name": "HTMLModel",
          "state": {
            "_view_name": "HTMLView",
            "style": "IPY_MODEL_8e06e4bd2e034090bb6c714de54780a0",
            "_dom_classes": [],
            "description": "",
            "_model_name": "HTMLModel",
            "placeholder": "​",
            "_view_module": "@jupyter-widgets/controls",
            "_model_module_version": "1.5.0",
            "value": " 25858/? [00:00&lt;00:00, 106065.59it/s]",
            "_view_count": null,
            "_view_module_version": "1.5.0",
            "description_tooltip": null,
            "_model_module": "@jupyter-widgets/controls",
            "layout": "IPY_MODEL_69f6704a54154d07be804c6c87388d84"
          }
        },
        "91d1823842864755925dce759fe0c159": {
          "model_module": "@jupyter-widgets/controls",
          "model_name": "ProgressStyleModel",
          "state": {
            "_view_name": "StyleView",
            "_model_name": "ProgressStyleModel",
            "description_width": "initial",
            "_view_module": "@jupyter-widgets/base",
            "_model_module_version": "1.5.0",
            "_view_count": null,
            "_view_module_version": "1.2.0",
            "bar_color": null,
            "_model_module": "@jupyter-widgets/controls"
          }
        },
        "d18b80fee0a148a88d65b21a9a1b8dc3": {
          "model_module": "@jupyter-widgets/base",
          "model_name": "LayoutModel",
          "state": {
            "_view_name": "LayoutView",
            "grid_template_rows": null,
            "right": null,
            "justify_content": null,
            "_view_module": "@jupyter-widgets/base",
            "overflow": null,
            "_model_module_version": "1.2.0",
            "_view_count": null,
            "flex_flow": null,
            "width": null,
            "min_width": null,
            "border": null,
            "align_items": null,
            "bottom": null,
            "_model_module": "@jupyter-widgets/base",
            "top": null,
            "grid_column": null,
            "overflow_y": null,
            "overflow_x": null,
            "grid_auto_flow": null,
            "grid_area": null,
            "grid_template_columns": null,
            "flex": null,
            "_model_name": "LayoutModel",
            "justify_items": null,
            "grid_row": null,
            "max_height": null,
            "align_content": null,
            "visibility": null,
            "align_self": null,
            "height": null,
            "min_height": null,
            "padding": null,
            "grid_auto_rows": null,
            "grid_gap": null,
            "max_width": null,
            "order": null,
            "_view_module_version": "1.2.0",
            "grid_template_areas": null,
            "object_position": null,
            "object_fit": null,
            "grid_auto_columns": null,
            "margin": null,
            "display": null,
            "left": null
          }
        },
        "8e06e4bd2e034090bb6c714de54780a0": {
          "model_module": "@jupyter-widgets/controls",
          "model_name": "DescriptionStyleModel",
          "state": {
            "_view_name": "StyleView",
            "_model_name": "DescriptionStyleModel",
            "description_width": "",
            "_view_module": "@jupyter-widgets/base",
            "_model_module_version": "1.5.0",
            "_view_count": null,
            "_view_module_version": "1.2.0",
            "_model_module": "@jupyter-widgets/controls"
          }
        },
        "69f6704a54154d07be804c6c87388d84": {
          "model_module": "@jupyter-widgets/base",
          "model_name": "LayoutModel",
          "state": {
            "_view_name": "LayoutView",
            "grid_template_rows": null,
            "right": null,
            "justify_content": null,
            "_view_module": "@jupyter-widgets/base",
            "overflow": null,
            "_model_module_version": "1.2.0",
            "_view_count": null,
            "flex_flow": null,
            "width": null,
            "min_width": null,
            "border": null,
            "align_items": null,
            "bottom": null,
            "_model_module": "@jupyter-widgets/base",
            "top": null,
            "grid_column": null,
            "overflow_y": null,
            "overflow_x": null,
            "grid_auto_flow": null,
            "grid_area": null,
            "grid_template_columns": null,
            "flex": null,
            "_model_name": "LayoutModel",
            "justify_items": null,
            "grid_row": null,
            "max_height": null,
            "align_content": null,
            "visibility": null,
            "align_self": null,
            "height": null,
            "min_height": null,
            "padding": null,
            "grid_auto_rows": null,
            "grid_gap": null,
            "max_width": null,
            "order": null,
            "_view_module_version": "1.2.0",
            "grid_template_areas": null,
            "object_position": null,
            "object_fit": null,
            "grid_auto_columns": null,
            "margin": null,
            "display": null,
            "left": null
          }
        }
      }
    }
  },
  "cells": [
    {
      "cell_type": "markdown",
      "metadata": {
        "id": "view-in-github",
        "colab_type": "text"
      },
      "source": [
        "<a href=\"https://colab.research.google.com/github/liadmagen/NLP-Course/blob/master/exercises_notebooks/04_LM_PP_Attachment_classification.ipynb\" target=\"_parent\"><img src=\"https://colab.research.google.com/assets/colab-badge.svg\" alt=\"Open In Colab\"/></a>"
      ]
    },
    {
      "cell_type": "markdown",
      "metadata": {
        "id": "w-EolZK1El9L"
      },
      "source": [
        "Let's try out the Preposition Phrase attachment classification!\n",
        "\n",
        "Through this exercise, you'll practice classification of linguistic aspects of text."
      ]
    },
    {
      "cell_type": "markdown",
      "metadata": {
        "id": "ZEHsHqnBEnM0"
      },
      "source": [
        "# Setup\n",
        "Loading the data"
      ]
    },
    {
      "cell_type": "code",
      "metadata": {
        "id": "IQeJMBC9EjQj"
      },
      "source": [
        "import csv\n",
        "\n",
        "from tqdm.notebook import tqdm\n",
        "from random import choice\n",
        "from urllib.request import urlopen\n"
      ],
      "execution_count": 1,
      "outputs": []
    },
    {
      "cell_type": "code",
      "metadata": {
        "id": "f5y8hLSTDcmT"
      },
      "source": [
        "def read_pp_examples(file_url):\n",
        "    pp_examples = []\n",
        "    \n",
        "    for line in tqdm(urlopen(file_url)):\n",
        "      line = line.decode(\"utf-8\").strip().split()\n",
        "      assert(len(line) == 5)\n",
        "      v,n1,p,n2,answer = line\n",
        "      pp_examples.append( {'answer':answer,'pp':(v,n1,p,n2)} )\n",
        "    return pp_examples"
      ],
      "execution_count": 2,
      "outputs": []
    },
    {
      "cell_type": "code",
      "metadata": {
        "id": "_kc6IkpCDphJ"
      },
      "source": [
        "pp_samples_url = 'https://raw.githubusercontent.com/liadmagen/NLP-Course/master/dataset/pp_examples.txt'"
      ],
      "execution_count": 3,
      "outputs": []
    },
    {
      "cell_type": "code",
      "metadata": {
        "id": "4i0rtj1RFkug",
        "outputId": "28f9b549-b4e7-4482-82eb-c820268c5924",
        "colab": {
          "base_uri": "https://localhost:8080/",
          "height": 66,
          "referenced_widgets": [
            "15def7471fd448b789e14f7cbed44891",
            "1d09f2ca67134eb4bd0c7aef7e54fe58",
            "018d4d67be70470cb0c67bd451f10dd8",
            "181bb9b406bb4543afbb1d19b4b3abef",
            "91d1823842864755925dce759fe0c159",
            "d18b80fee0a148a88d65b21a9a1b8dc3",
            "8e06e4bd2e034090bb6c714de54780a0",
            "69f6704a54154d07be804c6c87388d84"
          ]
        }
      },
      "source": [
        "pp_examples = read_pp_examples(pp_samples_url)\n"
      ],
      "execution_count": 4,
      "outputs": [
        {
          "output_type": "display_data",
          "data": {
            "application/vnd.jupyter.widget-view+json": {
              "model_id": "15def7471fd448b789e14f7cbed44891",
              "version_minor": 0,
              "version_major": 2
            },
            "text/plain": [
              "HBox(children=(FloatProgress(value=1.0, bar_style='info', max=1.0), HTML(value='')))"
            ]
          },
          "metadata": {
            "tags": []
          }
        },
        {
          "output_type": "stream",
          "text": [
            "\n"
          ],
          "name": "stdout"
        }
      ]
    },
    {
      "cell_type": "markdown",
      "metadata": {
        "id": "MRYNWqK-Gu3F"
      },
      "source": [
        "# Step #1 - looking at the data"
      ]
    },
    {
      "cell_type": "code",
      "metadata": {
        "id": "a59ypmWhGlIZ",
        "outputId": "f7ce7f89-5589-49ea-9478-ab2e13918d93",
        "colab": {
          "base_uri": "https://localhost:8080/"
        }
      },
      "source": [
        "len(pp_examples)"
      ],
      "execution_count": 5,
      "outputs": [
        {
          "output_type": "execute_result",
          "data": {
            "text/plain": [
              "25858"
            ]
          },
          "metadata": {
            "tags": []
          },
          "execution_count": 5
        }
      ]
    },
    {
      "cell_type": "code",
      "metadata": {
        "id": "_W9FOJmkG1HF",
        "outputId": "c724c4ba-0517-47a4-fc3e-46e3f75326db",
        "colab": {
          "base_uri": "https://localhost:8080/"
        }
      },
      "source": [
        "print(choice(pp_examples))"
      ],
      "execution_count": 6,
      "outputs": [
        {
          "output_type": "stream",
          "text": [
            "{'answer': 'N', 'pp': ('attributed', 'rallies', 'in', 'number')}\n"
          ],
          "name": "stdout"
        }
      ]
    },
    {
      "cell_type": "code",
      "metadata": {
        "id": "iLCTVAyAG4Cm",
        "outputId": "ebc088b0-4ca9-45f3-972b-68ab0f317f9e",
        "colab": {
          "base_uri": "https://localhost:8080/"
        }
      },
      "source": [
        "example = choice(pp_examples)\n",
        "example['pp']"
      ],
      "execution_count": 7,
      "outputs": [
        {
          "output_type": "execute_result",
          "data": {
            "text/plain": [
              "('were', 'distributors', 'in', 'addition')"
            ]
          },
          "metadata": {
            "tags": []
          },
          "execution_count": 7
        }
      ]
    },
    {
      "cell_type": "code",
      "metadata": {
        "id": "W4tkr91VHHC0",
        "outputId": "d1b9fbd2-4372-4831-8de7-c6e182b36721",
        "colab": {
          "base_uri": "https://localhost:8080/",
          "height": 35
        }
      },
      "source": [
        "example['answer']"
      ],
      "execution_count": 8,
      "outputs": [
        {
          "output_type": "execute_result",
          "data": {
            "application/vnd.google.colaboratory.intrinsic+json": {
              "type": "string"
            },
            "text/plain": [
              "'V'"
            ]
          },
          "metadata": {
            "tags": []
          },
          "execution_count": 8
        }
      ]
    },
    {
      "cell_type": "markdown",
      "metadata": {
        "id": "vyls_Vs7MxYj"
      },
      "source": [
        "# Step 2: Deciding on the measurement"
      ]
    },
    {
      "cell_type": "code",
      "metadata": {
        "id": "r1Av7fCNHN2K",
        "outputId": "ee125c23-1bc8-46f6-d0da-65b4bf1666a0",
        "colab": {
          "base_uri": "https://localhost:8080/"
        }
      },
      "source": [
        "amt = int(0.75 * len(pp_examples))\n",
        "train_examples, test_examples = pp_examples[:amt], pp_examples[amt:]\n",
        "\n",
        "print(len(train_examples), len(test_examples))"
      ],
      "execution_count": 9,
      "outputs": [
        {
          "output_type": "stream",
          "text": [
            "19393 6465\n"
          ],
          "name": "stdout"
        }
      ]
    },
    {
      "cell_type": "markdown",
      "metadata": {
        "id": "ds9ZfBzmNXjN"
      },
      "source": [
        "We'll define a classifier evaluator.\n",
        "\n",
        "Given a set of examples and an evaluator, it returns the accuracy score"
      ]
    },
    {
      "cell_type": "code",
      "metadata": {
        "id": "r-uR21gwNGo1"
      },
      "source": [
        "def evaluate_classifier(examples, pp_resolver):\n",
        "    \"\"\"\n",
        "    examples: a list of {'pp':(v,n1,p,n2), 'answer':answer }\n",
        "    pp_resolver has a classify() function: from (v,n1,p,n2) to 'N' / 'V'\n",
        "    \"\"\"\n",
        "    correct = 0.0\n",
        "    incorrect = 0.0\n",
        "    for example in examples:\n",
        "        answer = pp_resolver.classify(example['pp'])\n",
        "        if answer == example['answer']:\n",
        "            correct += 1\n",
        "        else:\n",
        "            incorrect += 1\n",
        "    return correct / (correct + incorrect)\n"
      ],
      "execution_count": 10,
      "outputs": []
    },
    {
      "cell_type": "markdown",
      "metadata": {
        "id": "w8v47ip3OkRi"
      },
      "source": [
        "# Classifiers"
      ]
    },
    {
      "cell_type": "markdown",
      "metadata": {
        "id": "dUdapHv7NzVD"
      },
      "source": [
        "Let's test it on an extremely naive classifiers:"
      ]
    },
    {
      "cell_type": "code",
      "metadata": {
        "id": "z9gXjgytNJLN"
      },
      "source": [
        "class AlwaysSayN:\n",
        "    def __init__(self): pass\n",
        "    def classify(self, pp):\n",
        "        return 'N'\n"
      ],
      "execution_count": 11,
      "outputs": []
    },
    {
      "cell_type": "code",
      "metadata": {
        "id": "h7DkSKB1NScS"
      },
      "source": [
        "class AlwaysSayV:\n",
        "    def __init__(self): pass\n",
        "    def classify(self, pp):\n",
        "        return 'V'\n"
      ],
      "execution_count": 12,
      "outputs": []
    },
    {
      "cell_type": "code",
      "metadata": {
        "id": "Y61B9XkjNT2u",
        "outputId": "a15ff025-19f0-47b3-f69a-312a4c30f971",
        "colab": {
          "base_uri": "https://localhost:8080/"
        }
      },
      "source": [
        "evaluate_classifier(test_examples, AlwaysSayN())\n"
      ],
      "execution_count": 13,
      "outputs": [
        {
          "output_type": "execute_result",
          "data": {
            "text/plain": [
              "0.5365815931941222"
            ]
          },
          "metadata": {
            "tags": []
          },
          "execution_count": 13
        }
      ]
    },
    {
      "cell_type": "markdown",
      "metadata": {
        "id": "3xHV9Q9WOOFC"
      },
      "source": [
        "We can see that saying always 'Noun', leads to a result of 53%.\n",
        "\n",
        "It also means that our dataset is quite balaneced ;)"
      ]
    },
    {
      "cell_type": "markdown",
      "metadata": {
        "id": "o_qX03x-OXK6"
      },
      "source": [
        ""
      ]
    },
    {
      "cell_type": "code",
      "metadata": {
        "id": "eozkgMzfOCWD"
      },
      "source": [
        "class MajorityClassResolver:\n",
        "    def __init__(self, training_examples):\n",
        "        answers = [item['answer'] for item in training_examples]\n",
        "        num_n = len([a for a in answers if a == 'N'])\n",
        "        num_v = len([a for a in answers if a == 'V'])\n",
        "        if num_v > num_n:\n",
        "            self.answer = 'V'\n",
        "        else:\n",
        "            self.answer = 'N'\n",
        "    def classify(self, pp):\n",
        "        return self.answer\n"
      ],
      "execution_count": 14,
      "outputs": []
    },
    {
      "cell_type": "code",
      "metadata": {
        "id": "SGM5CODLODIv",
        "outputId": "47a1f6fc-2a95-46cb-b0f7-6b25525cdb67",
        "colab": {
          "base_uri": "https://localhost:8080/"
        }
      },
      "source": [
        "evaluate_classifier(test_examples, MajorityClassResolver(train_examples))"
      ],
      "execution_count": 15,
      "outputs": [
        {
          "output_type": "execute_result",
          "data": {
            "text/plain": [
              "0.5365815931941222"
            ]
          },
          "metadata": {
            "tags": []
          },
          "execution_count": 15
        }
      ]
    },
    {
      "cell_type": "code",
      "metadata": {
        "id": "EVTth8ybNUkQ"
      },
      "source": [
        "class LookupResolver:\n",
        "    def __init__(self, training_examples):\n",
        "        self.answers = {}\n",
        "        for item in training_examples:\n",
        "            self.answers[item['pp']] = item['answer']\n",
        "        self.backoff = MajorityClassResolver(training_examples)\n",
        "        \n",
        "    def classify(self, pp):\n",
        "        if pp in self.answers:\n",
        "            return self.answers[pp]\n",
        "        else:\n",
        "            return self.backoff.classify(pp)\n"
      ],
      "execution_count": 16,
      "outputs": []
    },
    {
      "cell_type": "code",
      "metadata": {
        "id": "gqi-FzCAN71L",
        "outputId": "5559326d-b44e-495a-9dd8-9ce517549316",
        "colab": {
          "base_uri": "https://localhost:8080/"
        }
      },
      "source": [
        "evaluate_classifier(test_examples, LookupResolver(train_examples))"
      ],
      "execution_count": 17,
      "outputs": [
        {
          "output_type": "execute_result",
          "data": {
            "text/plain": [
              "0.6009280742459396"
            ]
          },
          "metadata": {
            "tags": []
          },
          "execution_count": 17
        }
      ]
    },
    {
      "cell_type": "markdown",
      "metadata": {
        "id": "Rm2DFH7YPN_Z"
      },
      "source": [
        "# Your Turn:"
      ]
    },
    {
      "cell_type": "markdown",
      "metadata": {
        "id": "BFRReTKOHTN8"
      },
      "source": [
        "Implement a discriminative PP-attachment model, using a classifier of your choice (i.e. - Naive Bayes Classifier https://web.stanford.edu/~jurafsky/slp3/4.pdf) from a toolkit such as sklearn.\n",
        "\n",
        "Possible features:\n",
        "\n",
        "Single items ​\n",
        "* Identity of v ​\n",
        "* Identity of p ​\n",
        "* Identity of n1 ​\n",
        "* Identity of n2 ​\n",
        "\n",
        "Pairs:​\n",
        "* dentity of (v, p) ​\n",
        "* Identity of (n1, p) ​\n",
        "* Identity of (p, n1)​\n",
        "\n",
        "Triplets:​\n",
        "* Identity of (v, n1, p)​\n",
        "* Identity of (v, p, n2) ​\n",
        "* Identity of (n1, p, n2) ​\n",
        "\n",
        "Quadruple:​\n",
        "* Identity of (v, n1, p, n2)​\n",
        "\n",
        "\n",
        "Corpus Level:​\n",
        "\n",
        "* Have we seen the (v, p) pair in a 5-word window in a big corpus?​\n",
        "* Have we seen the (n1, p) pair in a 5-word window in a big corpus? ​\n",
        "* Have we seen the (n1, p, n2) triplet in a 5-word window in a big corpus?​\n",
        "*  Also: we can use counts, or binned counts.​\n",
        "\n",
        "Distance:​\n",
        "* Distance (in words) between v and p ​\n",
        "* Distance (in words) between n1 and p​"
      ]
    },
    {
      "cell_type": "code",
      "metadata": {
        "id": "LfxK2XclN-PR"
      },
      "source": [
        ""
      ],
      "execution_count": 17,
      "outputs": []
    }
  ]
}