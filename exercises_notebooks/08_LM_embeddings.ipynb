{
  "nbformat": 4,
  "nbformat_minor": 0,
  "metadata": {
    "colab": {
      "name": "08_LM_embeddings.ipynb",
      "provenance": [],
      "collapsed_sections": [],
      "include_colab_link": true
    },
    "kernelspec": {
      "name": "python3",
      "display_name": "Python 3"
    },
    "accelerator": "GPU"
  },
  "cells": [
    {
      "cell_type": "markdown",
      "metadata": {
        "id": "view-in-github",
        "colab_type": "text"
      },
      "source": [
        "<a href=\"https://colab.research.google.com/github/liadmagen/NLP-Course/blob/master/exercises_notebooks/08_LM_embeddings.ipynb\" target=\"_parent\"><img src=\"https://colab.research.google.com/assets/colab-badge.svg\" alt=\"Open In Colab\"/></a>"
      ]
    },
    {
      "cell_type": "markdown",
      "metadata": {
        "id": "93nOAMLOe6_d"
      },
      "source": [
        "# Word Embeddings\n",
        "\n"
      ]
    },
    {
      "cell_type": "markdown",
      "metadata": {
        "id": "oLZVEibVfGvF"
      },
      "source": [
        "## Playing with pre-trained word embeddings"
      ]
    },
    {
      "cell_type": "markdown",
      "metadata": {
        "id": "m6ztl7jugHQz"
      },
      "source": [
        "Download the pre-trained word vectors; this takes a minute (~1.5gb)"
      ]
    },
    {
      "cell_type": "code",
      "metadata": {
        "id": "4BSSDJ8hYfDC"
      },
      "source": [
        "import numpy as np"
      ],
      "execution_count": 1,
      "outputs": []
    },
    {
      "cell_type": "code",
      "metadata": {
        "id": "qYZ09121e4CO",
        "outputId": "142b3f76-7956-4f02-9528-bed1b6d19ae5",
        "colab": {
          "base_uri": "https://localhost:8080/"
        }
      },
      "source": [
        "!wget -P /root/input/ -c \"https://s3.amazonaws.com/dl4j-distribution/GoogleNews-vectors-negative300.bin.gz\""
      ],
      "execution_count": 2,
      "outputs": [
        {
          "output_type": "stream",
          "text": [
            "--2020-11-11 18:20:18--  https://s3.amazonaws.com/dl4j-distribution/GoogleNews-vectors-negative300.bin.gz\n",
            "Resolving s3.amazonaws.com (s3.amazonaws.com)... 52.216.20.229\n",
            "Connecting to s3.amazonaws.com (s3.amazonaws.com)|52.216.20.229|:443... connected.\n",
            "HTTP request sent, awaiting response... 200 OK\n",
            "Length: 1647046227 (1.5G) [application/x-gzip]\n",
            "Saving to: ‘/root/input/GoogleNews-vectors-negative300.bin.gz’\n",
            "\n",
            "GoogleNews-vectors- 100%[===================>]   1.53G  44.6MB/s    in 38s     \n",
            "\n",
            "2020-11-11 18:20:57 (40.8 MB/s) - ‘/root/input/GoogleNews-vectors-negative300.bin.gz’ saved [1647046227/1647046227]\n",
            "\n"
          ],
          "name": "stdout"
        }
      ]
    },
    {
      "cell_type": "markdown",
      "metadata": {
        "id": "kkhN5vXJgLN5"
      },
      "source": [
        "Install `gensim`, a useful NLP library that we will use to load w2v embeddings"
      ]
    },
    {
      "cell_type": "code",
      "metadata": {
        "id": "zAGXYqxLgGVB",
        "outputId": "ea2af8a8-e6bb-4f13-9aac-68274d8322fe",
        "colab": {
          "base_uri": "https://localhost:8080/"
        }
      },
      "source": [
        "!pip install gensim\n",
        "from gensim.models import KeyedVectors"
      ],
      "execution_count": 3,
      "outputs": [
        {
          "output_type": "stream",
          "text": [
            "Requirement already satisfied: gensim in /usr/local/lib/python3.6/dist-packages (3.6.0)\n",
            "Requirement already satisfied: smart-open>=1.2.1 in /usr/local/lib/python3.6/dist-packages (from gensim) (3.0.0)\n",
            "Requirement already satisfied: six>=1.5.0 in /usr/local/lib/python3.6/dist-packages (from gensim) (1.15.0)\n",
            "Requirement already satisfied: scipy>=0.18.1 in /usr/local/lib/python3.6/dist-packages (from gensim) (1.4.1)\n",
            "Requirement already satisfied: numpy>=1.11.3 in /usr/local/lib/python3.6/dist-packages (from gensim) (1.18.5)\n",
            "Requirement already satisfied: requests in /usr/local/lib/python3.6/dist-packages (from smart-open>=1.2.1->gensim) (2.23.0)\n",
            "Requirement already satisfied: urllib3!=1.25.0,!=1.25.1,<1.26,>=1.21.1 in /usr/local/lib/python3.6/dist-packages (from requests->smart-open>=1.2.1->gensim) (1.24.3)\n",
            "Requirement already satisfied: certifi>=2017.4.17 in /usr/local/lib/python3.6/dist-packages (from requests->smart-open>=1.2.1->gensim) (2020.6.20)\n",
            "Requirement already satisfied: idna<3,>=2.5 in /usr/local/lib/python3.6/dist-packages (from requests->smart-open>=1.2.1->gensim) (2.10)\n",
            "Requirement already satisfied: chardet<4,>=3.0.2 in /usr/local/lib/python3.6/dist-packages (from requests->smart-open>=1.2.1->gensim) (3.0.4)\n"
          ],
          "name": "stdout"
        }
      ]
    },
    {
      "cell_type": "code",
      "metadata": {
        "id": "Ym8M2wjkf2_e"
      },
      "source": [
        "EMBEDDING_FILE = '/root/input/GoogleNews-vectors-negative300.bin.gz' # from above\n",
        "word2vec = KeyedVectors.load_word2vec_format(EMBEDDING_FILE, binary=True)"
      ],
      "execution_count": 4,
      "outputs": []
    },
    {
      "cell_type": "code",
      "metadata": {
        "id": "eLAVZuBfgaYh",
        "outputId": "caefaa2f-633c-4a9d-f13a-ebafc5d26046",
        "colab": {
          "base_uri": "https://localhost:8080/"
        }
      },
      "source": [
        "word2vec[\"cat\"].shape"
      ],
      "execution_count": 5,
      "outputs": [
        {
          "output_type": "execute_result",
          "data": {
            "text/plain": [
              "(300,)"
            ]
          },
          "metadata": {
            "tags": []
          },
          "execution_count": 5
        }
      ]
    },
    {
      "cell_type": "markdown",
      "metadata": {
        "id": "hvn4RpfEin7s"
      },
      "source": [
        "Recall that $\\text{cos}(a,b) = \\frac{a \\cdot b}{||a|| \\cdot  ||b||}$"
      ]
    },
    {
      "cell_type": "code",
      "metadata": {
        "id": "JMqYExDNhqsA"
      },
      "source": [
        "import numpy as np\n",
        "\n",
        "def cos(x1, x2):\n",
        "  return np.dot(x1, x2)/(np.linalg.norm(x1)*np.linalg.norm(x2))"
      ],
      "execution_count": 6,
      "outputs": []
    },
    {
      "cell_type": "code",
      "metadata": {
        "id": "YRVv4mf6hLjJ",
        "outputId": "878c8389-63f4-4320-baff-d477dcab61c0",
        "colab": {
          "base_uri": "https://localhost:8080/"
        }
      },
      "source": [
        "cos(word2vec[\"cat\"], word2vec[\"dog\"])"
      ],
      "execution_count": 7,
      "outputs": [
        {
          "output_type": "execute_result",
          "data": {
            "text/plain": [
              "0.76094574"
            ]
          },
          "metadata": {
            "tags": []
          },
          "execution_count": 7
        }
      ]
    },
    {
      "cell_type": "code",
      "metadata": {
        "id": "edQSGcAIh7oh",
        "outputId": "cb66f930-0309-40f1-ddd4-ae8fafb1d8a2",
        "colab": {
          "base_uri": "https://localhost:8080/"
        }
      },
      "source": [
        "cos(word2vec[\"cat\"], word2vec[\"eggplant\"])"
      ],
      "execution_count": 8,
      "outputs": [
        {
          "output_type": "execute_result",
          "data": {
            "text/plain": [
              "0.11546826"
            ]
          },
          "metadata": {
            "tags": []
          },
          "execution_count": 8
        }
      ]
    },
    {
      "cell_type": "code",
      "metadata": {
        "id": "9EhchHqmYNni"
      },
      "source": [
        "import random\n",
        "vocab = random.sample(list(word2vec.vocab), 100)"
      ],
      "execution_count": 9,
      "outputs": []
    },
    {
      "cell_type": "code",
      "metadata": {
        "id": "aI6pddO0Yb2p"
      },
      "source": [
        "X = np.array([word2vec[v] for v in vocab])"
      ],
      "execution_count": 10,
      "outputs": []
    },
    {
      "cell_type": "code",
      "metadata": {
        "id": "0-FXN41aiSW-",
        "outputId": "58fe4736-d346-45e5-b1e9-4699ee8f11da",
        "colab": {
          "base_uri": "https://localhost:8080/",
          "height": 268
        }
      },
      "source": [
        "import matplotlib.pyplot as plt\n",
        "from sklearn.manifold import TSNE\n",
        "tsne = TSNE(n_components=2, random_state=0)\n",
        "np.set_printoptions(suppress=True)\n",
        "\n",
        "\n",
        "Y = tsne.fit_transform(X)\n",
        "\n",
        "plt.scatter(Y[:, 0], Y[:, 1])\n",
        "for label, x, y in zip(vocab, Y[:, 0], Y[:, 1]):\n",
        "    plt.annotate(label, xy=(x, y), xytext=(0, 0), textcoords='offset points')\n",
        "plt.show()"
      ],
      "execution_count": 11,
      "outputs": [
        {
          "output_type": "display_data",
          "data": {
            "image/png": "[encoded data removed]",
            "text/plain": [
              "<Figure size 432x288 with 1 Axes>"
            ]
          },
          "metadata": {
            "tags": [],
            "needs_background": "light"
          }
        }
      ]
    },
    {
      "cell_type": "markdown",
      "metadata": {
        "id": "SShAwuc1BtHg"
      },
      "source": [
        "## Training w2v \n",
        "\n",
        "These examples modified from official PyTorch doc: https://pytorch.org/tutorials/beginner/nlp/word_embeddings_tutorial.html"
      ]
    },
    {
      "cell_type": "code",
      "metadata": {
        "id": "TYhrN8wpJ6Rl"
      },
      "source": [
        "import torch\n",
        "import torch.nn as nn\n",
        "import torch.nn.functional as F\n",
        "import torch.optim as optim\n",
        "from torch.autograd import Variable"
      ],
      "execution_count": 12,
      "outputs": []
    },
    {
      "cell_type": "markdown",
      "metadata": {
        "id": "yJ5DB55hBipx"
      },
      "source": [
        "### CBoW"
      ]
    },
    {
      "cell_type": "code",
      "metadata": {
        "id": "5fHmz0UxICYA",
        "outputId": "b7b79605-630e-41d6-f6ac-707571fd1424",
        "colab": {
          "base_uri": "https://localhost:8080/"
        }
      },
      "source": [
        "CONTEXT_SIZE = 2  # 2 words to the left, 2 to the right\n",
        "raw_text = \"\"\"We are about to study the idea of a computational process.\n",
        "Computational processes are abstract beings that inhabit computers.\n",
        "As they evolve, processes manipulate other abstract things called data.\n",
        "The evolution of a process is directed by a pattern of rules\n",
        "called a program. People create programs to direct processes. In effect,\n",
        "we conjure the spirits of the computer with our spells.\"\"\".split()\n",
        "\n",
        "vocab = set(raw_text)\n",
        "vocab_size = len(vocab)\n",
        "\n",
        "w2i = {word: i for i, word in enumerate(vocab)}\n",
        "cbow_train = []\n",
        "for i in range(2, len(raw_text) - 2):\n",
        "    context = [raw_text[i - 2], raw_text[i - 1],\n",
        "               raw_text[i + 1], raw_text[i + 2]]\n",
        "    target = raw_text[i]\n",
        "    cbow_train.append((context, target))\n",
        "print(cbow_train[:5])\n",
        "\n",
        "def make_context_vector(context):\n",
        "    idxs = [w2i[w] for w in context]\n",
        "    return torch.tensor(idxs, dtype=torch.long)\n",
        "\n",
        "make_context_vector(cbow_train[0][0])  # example"
      ],
      "execution_count": 13,
      "outputs": [
        {
          "output_type": "stream",
          "text": [
            "[(['We', 'are', 'to', 'study'], 'about'), (['are', 'about', 'study', 'the'], 'to'), (['about', 'to', 'the', 'idea'], 'study'), (['to', 'study', 'idea', 'of'], 'the'), (['study', 'the', 'of', 'a'], 'idea')]\n"
          ],
          "name": "stdout"
        },
        {
          "output_type": "execute_result",
          "data": {
            "text/plain": [
              "tensor([20, 19, 10, 38])"
            ]
          },
          "metadata": {
            "tags": []
          },
          "execution_count": 13
        }
      ]
    },
    {
      "cell_type": "code",
      "metadata": {
        "id": "LnPFUKc6Cc0L"
      },
      "source": [
        "class CBOW(nn.Module):\n",
        "\n",
        "    def __init__(self, vocab_size, embed_size):\n",
        "      super(CBOW, self).__init__()\n",
        "      self.d = embed_size\n",
        "      self.E = nn.Embedding(vocab_size, self.d)\n",
        "      self.a = nn.ReLU()\n",
        "      self.out = nn.Linear(self.d, vocab_size)\n",
        "      self.sm = nn.LogSoftmax()\n",
        "\n",
        "    def forward(self, inputs):\n",
        "      e = self.E(inputs)\n",
        "      h = self.a(sum(e))\n",
        "      return self.sm(self.out(h))"
      ],
      "execution_count": 14,
      "outputs": []
    },
    {
      "cell_type": "code",
      "metadata": {
        "id": "FnNAYixfJ95w",
        "outputId": "c709e6d1-083e-4cc0-9f94-109d97ada8be",
        "colab": {
          "base_uri": "https://localhost:8080/"
        }
      },
      "source": [
        "def train_cbow(embed_size=32, hidden_size=32, learning_rate=0.001, n_epoch=20):\n",
        "    losses = []\n",
        "    loss_fn = nn.NLLLoss()\n",
        "    model = CBOW(vocab_size, embed_size)\n",
        "    print(model)\n",
        "    optimizer = optim.SGD(model.parameters(), lr=learning_rate)\n",
        "\n",
        "    for epoch in range(n_epoch):\n",
        "        total_loss = 0.0\n",
        "        for context, target in cbow_train:\n",
        "            context_var = make_context_vector(context)\n",
        "            model.zero_grad()\n",
        "            # unsqueeze here maps from (d) --> (1 x d)\n",
        "            log_probs = model(context_var).unsqueeze(0)\n",
        "            loss = loss_fn(log_probs, Variable(torch.LongTensor([w2i[target]])))\n",
        "            \n",
        "            loss.backward()\n",
        "            optimizer.step()\n",
        "            \n",
        "            total_loss += loss.data\n",
        "        \n",
        "        losses.append(total_loss.numpy())\n",
        "    return model, losses\n",
        "\n",
        "epochs = 20\n",
        "m, losses = train_cbow(epochs)"
      ],
      "execution_count": 15,
      "outputs": [
        {
          "output_type": "stream",
          "text": [
            "CBOW(\n",
            "  (E): Embedding(49, 20)\n",
            "  (a): ReLU()\n",
            "  (out): Linear(in_features=20, out_features=49, bias=True)\n",
            "  (sm): LogSoftmax(dim=None)\n",
            ")\n"
          ],
          "name": "stdout"
        },
        {
          "output_type": "stream",
          "text": [
            "/usr/local/lib/python3.6/dist-packages/ipykernel_launcher.py:14: UserWarning: Implicit dimension choice for log_softmax has been deprecated. Change the call to include dim=X as an argument.\n",
            "  \n"
          ],
          "name": "stderr"
        }
      ]
    },
    {
      "cell_type": "code",
      "metadata": {
        "id": "N1qTohnDPpba",
        "outputId": "19bb5ad7-8c67-4574-c342-3e5eeef2050f",
        "colab": {
          "base_uri": "https://localhost:8080/",
          "height": 282
        }
      },
      "source": [
        "import matplotlib.pyplot as plt\n",
        "plt.plot(range(epochs), losses)"
      ],
      "execution_count": 16,
      "outputs": [
        {
          "output_type": "execute_result",
          "data": {
            "text/plain": [
              "[<matplotlib.lines.Line2D at 0x7f65576003c8>]"
            ]
          },
          "metadata": {
            "tags": []
          },
          "execution_count": 16
        },
        {
          "output_type": "display_data",
          "data": {
            "image/png": "[encoded data removed]",
            "text/plain": [
              "<Figure size 432x288 with 1 Axes>"
            ]
          },
          "metadata": {
            "tags": [],
            "needs_background": "light"
          }
        }
      ]
    },
    {
      "cell_type": "markdown",
      "metadata": {
        "id": "TBVJ3hdDIQyd"
      },
      "source": [
        "### Skip-gram w/negative sampling"
      ]
    },
    {
      "cell_type": "markdown",
      "metadata": {
        "id": "q2-GBOhY8ZiI"
      },
      "source": [
        "In Skip-gram, we have a pair of input words for each training example.\n",
        "They consisting of one input target word and one context word, each having a unique numeric identifier. \n",
        "\n",
        "If it is a positive sample the word has contextual meaning, is a context word and our label Y=1, else if it is a negative sample, the word has no contextual meaning, is just a random word and our label Y=0. "
      ]
    },
    {
      "cell_type": "code",
      "metadata": {
        "id": "qT1Fq2p6CFBY",
        "outputId": "0926b2c2-7bea-4691-e153-d3d3f08b1df9",
        "colab": {
          "base_uri": "https://localhost:8080/"
        }
      },
      "source": [
        "import random\n",
        "skipgram_train, y = [], []\n",
        "for i in range(2, len(raw_text) - 2):\n",
        "    context = [raw_text[i - 2], raw_text[i - 1],\n",
        "               raw_text[i + 1], raw_text[i + 2]]\n",
        "    target = raw_text[i]\n",
        "    # positive instance\n",
        "    for w_c in context:\n",
        "      skipgram_train.append((w_c, target))\n",
        "      y.append(1)\n",
        "      \n",
        "      # negative (maybe!) instance\n",
        "      w_rando = random.choice(raw_text)\n",
        "      skipgram_train.append((w_rando, target))\n",
        "      y.append(0)\n",
        "    \n",
        "print(skipgram_train[:5])\n",
        "print(y[:5])"
      ],
      "execution_count": 17,
      "outputs": [
        {
          "output_type": "stream",
          "text": [
            "[('We', 'about'), ('is', 'about'), ('are', 'about'), ('We', 'about'), ('to', 'about')]\n",
            "[1, 0, 1, 0, 1]\n"
          ],
          "name": "stdout"
        }
      ]
    },
    {
      "cell_type": "markdown",
      "metadata": {
        "id": "i2vJClHS84Bv"
      },
      "source": [
        " We will pass each of them to an **embedding layer** of the size *(vocab_size x embed_size)* which will be trained to contain a dense word embeddings for each of these two words (1 x embed_size for each word)"
      ]
    },
    {
      "cell_type": "code",
      "metadata": {
        "id": "R2C0XvkARfb_"
      },
      "source": [
        "class SkipGram(nn.Module):\n",
        "\n",
        "    def __init__(self, vocab_size, embed_size):\n",
        "      super(SkipGram, self).__init__()\n",
        "      self.d = embed_size\n",
        "      self.E = nn.Embedding(vocab_size, self.d)\n",
        "      self.W = nn.Embedding(vocab_size, self.d)\n",
        "      self.out = nn.Sigmoid()\n",
        "\n",
        "    def forward(self, x):\n",
        "      w_c = self.W(x[0])\n",
        "      e_t = self.E(x[1])\n",
        "\n",
        "      # we use a merge layer to compute the dot product of these two embeddings\n",
        "      return self.out(torch.dot(w_c, e_t))"
      ],
      "execution_count": 18,
      "outputs": []
    },
    {
      "cell_type": "markdown",
      "metadata": {
        "id": "og64vY0w9dAX"
      },
      "source": [
        "![Skip-gram structure](https://github.com/liadmagen/NLP-Course/raw/master/images/1_4Uil1zWWF5-jlt-FnRJgAQ.png \"Skip-gram model structure\")"
      ]
    },
    {
      "cell_type": "markdown",
      "metadata": {
        "id": "cOxIL0a_qnLO"
      },
      "source": [
        "# Output: the dot product:\n",
        "vocav_size x embedding_size * embedding_size x vocab_size = vocab_size x vocab_size "
      ]
    },
    {
      "cell_type": "code",
      "metadata": {
        "id": "eLslGTWdRrD9"
      },
      "source": [
        "def train_skipgram(embed_size=32, learning_rate=0.001, n_epoch=20):\n",
        "    losses = []\n",
        "    loss_fn = nn.BCELoss()\n",
        "    model = SkipGram(vocab_size, embed_size)\n",
        "    optimizer = optim.SGD(model.parameters(), lr=learning_rate)\n",
        "\n",
        "    for epoch in range(n_epoch):\n",
        "        total_loss = 0.0\n",
        "        for idx in range(len(skipgram_train)):\n",
        "            context = skipgram_train[idx]\n",
        "            y_i = y[i]\n",
        "            context_v = make_context_vector(context)\n",
        "            model.zero_grad()\n",
        "            # unsqueeze here maps from (d) --> (1 x d)\n",
        "            y_hat = model(context_v).unsqueeze(0)\n",
        "            loss = loss_fn(y_hat, Variable(torch.FloatTensor([y_i])))\n",
        "            loss.backward()\n",
        "            optimizer.step()\n",
        "            \n",
        "            total_loss += loss.data\n",
        "        \n",
        "        losses.append(total_loss.numpy())\n",
        "    return model, losses\n",
        "\n",
        "epochs = 20\n",
        "m, losses = train_skipgram(epochs)"
      ],
      "execution_count": 19,
      "outputs": []
    },
    {
      "cell_type": "code",
      "metadata": {
        "id": "2XH1junJT5gp",
        "outputId": "4e0cfd6e-4b01-46ab-d88b-226ec43b5daa",
        "colab": {
          "base_uri": "https://localhost:8080/",
          "height": 282
        }
      },
      "source": [
        "import matplotlib.pyplot as plt\n",
        "plt.plot(range(epochs), losses)"
      ],
      "execution_count": 20,
      "outputs": [
        {
          "output_type": "execute_result",
          "data": {
            "text/plain": [
              "[<matplotlib.lines.Line2D at 0x7f655756b7f0>]"
            ]
          },
          "metadata": {
            "tags": []
          },
          "execution_count": 20
        },
        {
          "output_type": "display_data",
          "data": {
            "image/png": "[encoded data removed]",
            "text/plain": [
              "<Figure size 432x288 with 1 Axes>"
            ]
          },
          "metadata": {
            "tags": [],
            "needs_background": "light"
          }
        }
      ]
    },
    {
      "cell_type": "markdown",
      "metadata": {
        "id": "1mGUDDtOWrKr"
      },
      "source": [
        "## How might we use these things?\n",
        "\n",
        "Back to sentiment classification. ***Disclaimer*** this is not a *good* way of using embeddings, but it is *a* way."
      ]
    },
    {
      "cell_type": "code",
      "metadata": {
        "id": "7taBfLKpXEiy"
      },
      "source": [
        "from keras import Sequential\n",
        "from keras.layers import Dense\n",
        "from keras.datasets import imdb"
      ],
      "execution_count": 21,
      "outputs": []
    },
    {
      "cell_type": "code",
      "metadata": {
        "id": "8WjsXBMOd56E",
        "outputId": "7990f009-b742-4ca5-eb60-68bb7d124b6d",
        "colab": {
          "base_uri": "https://localhost:8080/"
        }
      },
      "source": [
        "(X_train, y_train), (X_test, y_test) = imdb.load_data(num_words=10000)"
      ],
      "execution_count": 22,
      "outputs": [
        {
          "output_type": "stream",
          "text": [
            "Downloading data from https://storage.googleapis.com/tensorflow/tf-keras-datasets/imdb.npz\n",
            "17465344/17464789 [==============================] - 0s 0us/step\n"
          ],
          "name": "stdout"
        }
      ]
    },
    {
      "cell_type": "code",
      "metadata": {
        "id": "bMPSgef7aDBn"
      },
      "source": [
        "EMBEDDING_FILE = '/root/input/GoogleNews-vectors-negative300.bin.gz' # from above\n",
        "word2vec = KeyedVectors.load_word2vec_format(EMBEDDING_FILE, binary=True)"
      ],
      "execution_count": 23,
      "outputs": []
    },
    {
      "cell_type": "code",
      "metadata": {
        "id": "GyZRZqwpcjYU"
      },
      "source": [
        "embedding_dims = word2vec[\"cat\"].shape[0]"
      ],
      "execution_count": 24,
      "outputs": []
    },
    {
      "cell_type": "code",
      "metadata": {
        "id": "dWqfl5ZfauWf",
        "outputId": "d2fa3c7a-8ae3-48e3-9686-41740770b3db",
        "colab": {
          "base_uri": "https://localhost:8080/"
        }
      },
      "source": [
        "word_to_id = imdb.get_word_index()\n",
        "id_to_word = {idx:w for w,idx in word_to_id.items()}\n",
        "\n",
        "def aggregate_embeddings(x):\n",
        "  sum_of_vectors = np.zeros(embedding_dims)\n",
        "  for w_idx in x:\n",
        "    try:\n",
        "      w = id_to_word[w_idx]\n",
        "      sum_of_vectors += word2vec[w]\n",
        "    except:\n",
        "      pass\n",
        "  return sum_of_vectors"
      ],
      "execution_count": 25,
      "outputs": [
        {
          "output_type": "stream",
          "text": [
            "Downloading data from https://storage.googleapis.com/tensorflow/tf-keras-datasets/imdb_word_index.json\n",
            "1646592/1641221 [==============================] - 0s 0us/step\n"
          ],
          "name": "stdout"
        }
      ]
    },
    {
      "cell_type": "code",
      "metadata": {
        "id": "Ir0ZYNAxcOMi"
      },
      "source": [
        "train_data_embedded = []\n",
        "for x in X_train:\n",
        "  train_data_embedded.append(aggregate_embeddings(x))\n",
        "  \n",
        "test_data_embedded = []\n",
        "for x in X_test:\n",
        "  test_data_embedded.append(aggregate_embeddings(x))\n",
        "  "
      ],
      "execution_count": 26,
      "outputs": []
    },
    {
      "cell_type": "code",
      "metadata": {
        "id": "GTJKAIDUdZXY"
      },
      "source": [
        "train_data_embedded = np.array(train_data_embedded)\n",
        "test_data_embedded = np.array(test_data_embedded)"
      ],
      "execution_count": 27,
      "outputs": []
    },
    {
      "cell_type": "code",
      "metadata": {
        "id": "MKsOe54SaG9t"
      },
      "source": [
        "model = Sequential()\n",
        "\n",
        "model.add(Dense(32, input_shape=(embedding_dims,)))\n",
        "model.add(Dense(1, activation=\"sigmoid\"))\n",
        "\n",
        "model.compile(loss=\"binary_crossentropy\", optimizer=\"adagrad\", metrics=['accuracy'])"
      ],
      "execution_count": 28,
      "outputs": []
    },
    {
      "cell_type": "markdown",
      "metadata": {
        "id": "DC7C5eL3w6cS"
      },
      "source": [
        "Q: is this implementation going to update the embeddings???"
      ]
    },
    {
      "cell_type": "code",
      "metadata": {
        "id": "LIiwCAGNfQb1",
        "outputId": "b6e1578e-1cec-4107-da04-3ea860ff4c41",
        "colab": {
          "base_uri": "https://localhost:8080/"
        }
      },
      "source": [
        "train_data_embedded.shape"
      ],
      "execution_count": 29,
      "outputs": [
        {
          "output_type": "execute_result",
          "data": {
            "text/plain": [
              "(25000, 300)"
            ]
          },
          "metadata": {
            "tags": []
          },
          "execution_count": 29
        }
      ]
    },
    {
      "cell_type": "code",
      "metadata": {
        "id": "sEWlZhcFd19o",
        "outputId": "613e56b4-b856-45bd-908a-eb291c9a05c9",
        "colab": {
          "base_uri": "https://localhost:8080/"
        }
      },
      "source": [
        "model.fit(train_data_embedded, y_train, verbose=True, epochs=20)"
      ],
      "execution_count": 30,
      "outputs": [
        {
          "output_type": "stream",
          "text": [
            "Epoch 1/20\n",
            "782/782 [==============================] - 2s 2ms/step - loss: 1.3583 - accuracy: 0.5328\n",
            "Epoch 2/20\n",
            "782/782 [==============================] - 2s 2ms/step - loss: 1.0899 - accuracy: 0.5535\n",
            "Epoch 3/20\n",
            "782/782 [==============================] - 2s 2ms/step - loss: 1.0012 - accuracy: 0.5678\n",
            "Epoch 4/20\n",
            "782/782 [==============================] - 2s 2ms/step - loss: 0.9420 - accuracy: 0.5763\n",
            "Epoch 5/20\n",
            "782/782 [==============================] - 2s 2ms/step - loss: 0.9014 - accuracy: 0.5878\n",
            "Epoch 6/20\n",
            "782/782 [==============================] - 2s 2ms/step - loss: 0.8706 - accuracy: 0.5947\n",
            "Epoch 7/20\n",
            "782/782 [==============================] - 2s 2ms/step - loss: 0.8473 - accuracy: 0.5994\n",
            "Epoch 8/20\n",
            "782/782 [==============================] - 2s 2ms/step - loss: 0.8252 - accuracy: 0.6059\n",
            "Epoch 9/20\n",
            "782/782 [==============================] - 2s 2ms/step - loss: 0.8088 - accuracy: 0.6131\n",
            "Epoch 10/20\n",
            "782/782 [==============================] - 2s 2ms/step - loss: 0.7936 - accuracy: 0.6166\n",
            "Epoch 11/20\n",
            "782/782 [==============================] - 2s 2ms/step - loss: 0.7803 - accuracy: 0.6203\n",
            "Epoch 12/20\n",
            "782/782 [==============================] - 2s 2ms/step - loss: 0.7682 - accuracy: 0.6219\n",
            "Epoch 13/20\n",
            "782/782 [==============================] - 2s 2ms/step - loss: 0.7583 - accuracy: 0.6270\n",
            "Epoch 14/20\n",
            "782/782 [==============================] - 2s 2ms/step - loss: 0.7487 - accuracy: 0.6316\n",
            "Epoch 15/20\n",
            "782/782 [==============================] - 2s 2ms/step - loss: 0.7400 - accuracy: 0.6357\n",
            "Epoch 16/20\n",
            "782/782 [==============================] - 2s 2ms/step - loss: 0.7333 - accuracy: 0.6386\n",
            "Epoch 17/20\n",
            "782/782 [==============================] - 2s 2ms/step - loss: 0.7264 - accuracy: 0.6398\n",
            "Epoch 18/20\n",
            "782/782 [==============================] - 2s 2ms/step - loss: 0.7189 - accuracy: 0.6423\n",
            "Epoch 19/20\n",
            "782/782 [==============================] - 2s 2ms/step - loss: 0.7135 - accuracy: 0.6442\n",
            "Epoch 20/20\n",
            "782/782 [==============================] - 2s 2ms/step - loss: 0.7080 - accuracy: 0.6453\n"
          ],
          "name": "stdout"
        },
        {
          "output_type": "execute_result",
          "data": {
            "text/plain": [
              "<tensorflow.python.keras.callbacks.History at 0x7f65ea84be10>"
            ]
          },
          "metadata": {
            "tags": []
          },
          "execution_count": 30
        }
      ]
    },
    {
      "cell_type": "code",
      "metadata": {
        "id": "Q1UMqEo6ezaQ",
        "outputId": "73a90f4f-347f-4c55-f2f2-013e2e0cb3ff",
        "colab": {
          "base_uri": "https://localhost:8080/"
        }
      },
      "source": [
        "print(model.evaluate(test_data_embedded, y_test))"
      ],
      "execution_count": 31,
      "outputs": [
        {
          "output_type": "stream",
          "text": [
            "782/782 [==============================] - 1s 2ms/step - loss: 0.7094 - accuracy: 0.6413\n",
            "[0.7094324231147766, 0.641319990158081]\n"
          ],
          "name": "stdout"
        }
      ]
    },
    {
      "cell_type": "markdown",
      "metadata": {
        "id": "41ezJd2z6TJT"
      },
      "source": [
        "We got about 70% accuracy, just by training a model on a sentence, made from a sum of the word-vectors. \n",
        "\n",
        "Not bad, huh? \n",
        "\n",
        "But can we do better?"
      ]
    },
    {
      "cell_type": "markdown",
      "metadata": {
        "id": "9wjRPNzG6I6I"
      },
      "source": [
        "### Fine-Tuning the Embedding per given task"
      ]
    },
    {
      "cell_type": "markdown",
      "metadata": {
        "id": "-CkIShHmxAiq"
      },
      "source": [
        "Let's make a version that *does* update embeddings.\n",
        "\n",
        "First, we initialize a weights matrix.\n"
      ]
    },
    {
      "cell_type": "markdown",
      "metadata": {
        "id": "yrv6GynVE663"
      },
      "source": [
        "We are copying the word vectors, one by one, into a matrix, and normalizing them, as discused in the class.\n",
        "\n",
        "Copying one by one isn't the best way to do it - and many of the framework already offer built-in methods that operate on the machine-level (Assembly / C code) "
      ]
    },
    {
      "cell_type": "code",
      "metadata": {
        "id": "PuqegrnpyzyB"
      },
      "source": [
        "num_words = len(id_to_word)+1\n",
        "d = 300 # embedding dim\n",
        "E = np.zeros((num_words, d))\n",
        "for idx, w in id_to_word.items():\n",
        "    try:\n",
        "      E[idx,:] = word2vec[w]\n",
        "    except:\n",
        "      E[idx,:] = np.random.normal(size=d)"
      ],
      "execution_count": 32,
      "outputs": []
    },
    {
      "cell_type": "code",
      "metadata": {
        "id": "8g0eIwK_fntZ"
      },
      "source": [
        "class CBoW_classifier(nn.Module):\n",
        "  def __init__(self, E):\n",
        "    super(CBoW_classifier, self).__init__()\n",
        "       \n",
        "    # create our embedding layer\n",
        "    num_words, embedding_dim = E.shape\n",
        "    self.E_layer = nn.Embedding(num_words, embedding_dim)\n",
        "    # init with weight matrix (E) created above (passed in here)\n",
        "    self.E_layer.weight = nn.Parameter(torch.from_numpy(E))\n",
        "    self.hidden_layer = nn.Linear(embedding_dim, 32)\n",
        "    self.out = nn.Linear(32, 1)\n",
        "    self.a = nn.Sigmoid()\n",
        "\n",
        "  def forward(self, x):\n",
        "    x_e = self.E_layer(x)\n",
        "    x_e_sum = torch.sum(x_e, 0) # note: torch.mean() may be better -- why?\n",
        "    h = self.hidden_layer(x_e_sum.float())\n",
        "    y_hat = self.out(h)\n",
        "    return self.a(y_hat)\n",
        "\n"
      ],
      "execution_count": 33,
      "outputs": []
    },
    {
      "cell_type": "code",
      "metadata": {
        "id": "5OwiSpAM2Ibr",
        "outputId": "2086e9ca-8920-40c2-e850-2f81a5846bab",
        "colab": {
          "base_uri": "https://localhost:8080/"
        }
      },
      "source": [
        "model = CBoW_classifier(E).cuda()\n",
        "criterion = nn.BCELoss()\n",
        "\n",
        "optimizer = optim.Adam(model.parameters(), lr=0.001)\n",
        "for t in range(10):\n",
        "    epoch_loss = 0\n",
        "    for x, y in zip(X_train, y_train):\n",
        "      x = torch.from_numpy(np.array(x)).long().cuda()\n",
        "      y_pred = model(x)\n",
        "      loss = criterion(y_pred.squeeze(0), torch.tensor(y).float().cuda())\n",
        "      optimizer.zero_grad()\n",
        "      loss.backward()\n",
        "      optimizer.step()\n",
        "      epoch_loss += loss.item()\n",
        "    print(t, epoch_loss)\n",
        "    "
      ],
      "execution_count": 34,
      "outputs": [
        {
          "output_type": "stream",
          "text": [
            "0 11786.42854296781\n",
            "1 6554.533753025921\n",
            "2 5082.307396652576\n",
            "3 3706.1441507865056\n",
            "4 3842.7571086886524\n",
            "5 4338.713204022971\n",
            "6 5197.279513951924\n",
            "7 6575.852560368944\n",
            "8 8530.403395625783\n",
            "9 10764.628054122943\n"
          ],
          "name": "stdout"
        }
      ]
    },
    {
      "cell_type": "markdown",
      "metadata": {
        "id": "RT6NhRuZHRq_"
      },
      "source": [
        "During this training, the embedding vector values had changed, according to the loss calculation. \n",
        "\n",
        "PyTorch calculate a computation graph out of the model layers. This graph is computing for every neuron the delta, the change, that need to be updated based on the loss output (called grads - short for gradients).\n",
        "\n",
        "We can turn on/off which neurons we want to update (or not update) - and we see that in the next exercise."
      ]
    },
    {
      "cell_type": "markdown",
      "metadata": {
        "id": "691xxhGKIRXq"
      },
      "source": [
        "Let's evaluate how accurate our model is:"
      ]
    },
    {
      "cell_type": "code",
      "metadata": {
        "id": "SylodPc5k-Ew",
        "outputId": "a23f843e-96da-4a9f-c9d2-ee2ed2118701",
        "colab": {
          "base_uri": "https://localhost:8080/"
        }
      },
      "source": [
        "model.eval()\n",
        "\n",
        "for x, y in zip(X_test, y_test):\n",
        "  x = torch.from_numpy(np.array(x)).long().cuda()\n",
        "  y_pred = model(x)\n",
        "  loss = criterion(y_pred.squeeze(0), torch.tensor(y).float().cuda())\n",
        "  epoch_loss += loss.item()\n",
        "\n",
        "print(epoch_loss)\n",
        "  "
      ],
      "execution_count": 35,
      "outputs": [
        {
          "output_type": "stream",
          "text": [
            "194940.46059472387\n"
          ],
          "name": "stdout"
        }
      ]
    },
    {
      "cell_type": "code",
      "metadata": {
        "id": "E7A_cmUWI0Iv"
      },
      "source": [
        ""
      ],
      "execution_count": 35,
      "outputs": []
    }
  ]
}