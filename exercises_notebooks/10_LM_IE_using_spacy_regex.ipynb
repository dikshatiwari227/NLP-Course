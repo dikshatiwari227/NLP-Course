{
  "nbformat": 4,
  "nbformat_minor": 0,
  "metadata": {
    "colab": {
      "name": "10_LM_IE_using_spacy_regex.ipynb",
      "provenance": [],
      "collapsed_sections": [],
      "authorship_tag": "ABX9TyNirh67HOlP8fEZgwBzk46w",
      "include_colab_link": true
    },
    "kernelspec": {
      "name": "python3",
      "display_name": "Python 3"
    }
  },
  "cells": [
    {
      "cell_type": "markdown",
      "metadata": {
        "id": "view-in-github",
        "colab_type": "text"
      },
      "source": [
        "<a href=\"https://colab.research.google.com/github/liadmagen/NLP-Course/blob/master/exercises_notebooks/10_LM_IE_using_spacy_regex.ipynb\" target=\"_parent\"><img src=\"https://colab.research.google.com/assets/colab-badge.svg\" alt=\"Open In Colab\"/></a>"
      ]
    },
    {
      "cell_type": "markdown",
      "metadata": {
        "id": "ckv4IzSFavJt"
      },
      "source": [
        "# Initialization & Introduction"
      ]
    },
    {
      "cell_type": "code",
      "metadata": {
        "id": "_qcf_ZGJHdOf"
      },
      "source": [
        "from random import choice\n",
        "import spacy\n",
        "import en_core_web_sm\n",
        "\n",
        "import pandas as pd\n",
        "\n",
        "from spacy.matcher import Matcher"
      ],
      "execution_count": 1,
      "outputs": []
    },
    {
      "cell_type": "markdown",
      "metadata": {
        "id": "h9N2npYTxG8D"
      },
      "source": [
        "we will analyze a sample text, copied from the CNN:"
      ]
    },
    {
      "cell_type": "markdown",
      "metadata": {
        "id": "ea53uuMcwzs4"
      },
      "source": [
        "> Business leaders and industry groups took to Twitter and released statements Saturday congratulating President-elect Joe Biden on his victory, while calling for the country to come together after a hard-fought and sometimes bitter campaign.\n",
        "> \"Now is a time for unity. We must respect the results of the U.S. presidential election and, as we have with every election, honor the decision of the voters and support a peaceful transition of power,\" said Jamie Dimon, CEO of JPMorgan Chase (JPM).\n",
        "> \"We are a stronger country when we treat each other with dignity, share a commitment to a common purpose and are united to address our greater challenges. No matter our political views, let's come together to strengthen our exceptional country.\"\n",
        "> Facebook (FB) COO Sheryl Sandberg said that America has taken \"a big step toward creating a government that reflects the diverse country we are.\"\n",
        "\"Congratulations to Kamala Harris on this remarkable achievement -- shattering glass ceilings and norms around what leadership looks like -- and to President-Elect Biden on this historic milestone,\" Sandberg wrote in a Facebook post.\n",
        "> Corporate America had been supportive of Biden in the run-up to the election. A survey of CEOs conducted by the Yale School of Management in late September found that 77% of participants would vote for Biden. More than 60% predicted he would win.\n",
        "> Leaders of industry groups also are sending word of their support to the incoming administration.\n",
        "The American Bankers Association President and CEO Rob Nichols said the association and its members \"stand ready to work with the Biden administration and lawmakers from both parties to bolster the economy, increase opportunity and create a brighter future for all Americans.\"\n",
        "While the nation's banks have worked to assist their business and consumer customers, he added, \"we know more must be done to fuel the recovery.\"\n",
        "US Chamber of Commerce CEO Thomas J. Donohue said the industry group looks forward to working \"with the Biden administration and leaders on both sides of the aisle to restore public health, revitalize our economy, and help rebuild American lives and communities.\"\n",
        "> He added, \"We stand ready to help break through the gridlock and help get things done through collaboration and good governance,\" and said the Chamber stands ready \"to help break through the gridlock and help get things done through collaboration and good governance.\"\n",
        "In a statement, National Association of Manufacturers President and CEO Jay Timmons said that \"the American people are not interested in extreme policies from either party; they are looking for smart, stable and solutions-oriented governance.\"\n",
        "His group's agenda advocates for a competitive tax and regulatory system, infrastructure investment, comprehensive immigration reform, expanded trade and a strengthened workforce.\n",
        "\n",
        "---\n"
      ]
    },
    {
      "cell_type": "markdown",
      "metadata": {
        "id": "jEqcCCdchtmo"
      },
      "source": [
        "# spaCy for Information Extraction\n",
        "\n",
        "We will use here [spaCy](https://spacy.io) to extract information out of our dataset.\n",
        "\n",
        "SpaCy has several Language Models, pre-trained. \n",
        "We're loading the English (en) one. There are actually several different models for every language: small, medium, large, medical, etc., which differentiate from one another by the number and the type of words each contains in the Vocabulary.\n",
        "\n",
        "Explore the rest of the models here: https://spacy.io/usage/models"
      ]
    },
    {
      "cell_type": "code",
      "metadata": {
        "id": "Cbp_LzQ_Hjh4"
      },
      "source": [
        "nlp = en_core_web_sm.load()"
      ],
      "execution_count": 2,
      "outputs": []
    },
    {
      "cell_type": "code",
      "metadata": {
        "id": "4sGK18ddx1ra"
      },
      "source": [
        "copied_text = \"\"\" Business leaders and industry groups took to Twitter and released statements Saturday congratulating President-elect Joe Biden on his victory, while calling for the country to come together after a hard-fought and sometimes bitter campaign.\n",
        "\"Now is a time for unity. We must respect the results of the U.S. presidential election and, as we have with every election, honor the decision of the voters and support a peaceful transition of power,\" said Jamie Dimon, CEO of JPMorgan Chase (JPM).\n",
        "\"We are a stronger country when we treat each other with dignity, share a commitment to a common purpose and are united to address our greater challenges. No matter our political views, let's come together to strengthen our exceptional country.\"\n",
        "Facebook (FB) COO Sheryl Sandberg said that America has taken \"a big step toward creating a government that reflects the diverse country we are.\"\n",
        "\"Congratulations to Kamala Harris on this remarkable achievement -- shattering glass ceilings and norms around what leadership looks like -- and to President-Elect Biden on this historic milestone,\" Sandberg wrote in a Facebook post.\n",
        "Corporate America had been supportive of Biden in the run-up to the election. A survey of CEOs conducted by the Yale School of Management in late September found that 77% of participants would vote for Biden. More than 60% predicted he would win.\n",
        "Leaders of industry groups also are sending word of their support to the incoming administration.\n",
        "The American Bankers Association President and CEO Rob Nichols said the association and its members \"stand ready to work with the Biden administration and lawmakers from both parties to bolster the economy, increase opportunity and create a brighter future for all Americans.\"\n",
        "While the nation's banks have worked to assist their business and consumer customers, he added, \"we know more must be done to fuel the recovery.\"\n",
        "US Chamber of Commerce CEO Thomas J. Donohue said the industry group looks forward to working \"with the Biden administration and leaders on both sides of the aisle to restore public health, revitalize our economy, and help rebuild American lives and communities.\"\n",
        "He added, \"We stand ready to help break through the gridlock and help get things done through collaboration and good governance,\" and said the Chamber stands ready \"to help break through the gridlock and help get things done through collaboration and good governance.\"\n",
        "In a statement, National Association of Manufacturers President and CEO Jay Timmons said that \"the American people are not interested in extreme policies from either party; they are looking for smart, stable and solutions-oriented governance.\"\n",
        "His group's agenda advocates for a competitive tax and regulatory system, infrastructure investment, comprehensive immigration reform, expanded trade and a strengthened workforce.\"\"\""
      ],
      "execution_count": 3,
      "outputs": []
    },
    {
      "cell_type": "code",
      "metadata": {
        "id": "Tvc6ekTyuXZS"
      },
      "source": [
        "doc = nlp(copied_text)"
      ],
      "execution_count": 4,
      "outputs": []
    },
    {
      "cell_type": "markdown",
      "metadata": {
        "id": "653RfEdLyNoz"
      },
      "source": [
        "spaCy include a built-in parsing utilities, that are activated as soon as we load the text into it, through the nlp object we've created.\n",
        "\n",
        "For example, it already breaks down the text into sentences:"
      ]
    },
    {
      "cell_type": "code",
      "metadata": {
        "id": "3nrJtw3fyJZT",
        "outputId": "a5fd4680-b51e-4f13-87ae-ee29849cd67e",
        "colab": {
          "base_uri": "https://localhost:8080/"
        }
      },
      "source": [
        "for s in list(doc.sents)[:3]:\n",
        "  print(s)"
      ],
      "execution_count": 5,
      "outputs": [
        {
          "output_type": "stream",
          "text": [
            " Business leaders and industry groups took to Twitter and released statements Saturday congratulating President-elect Joe Biden on his victory, while calling for the country to come together after a hard-fought and sometimes bitter campaign.\n",
            "\n",
            "\"Now is a time for unity.\n",
            "We must respect the results of the U.S. presidential election and, as we have with every election, honor the decision of the voters and support a peaceful transition of power,\" said Jamie Dimon, CEO of JPMorgan Chase (JPM).\n",
            "\n"
          ],
          "name": "stdout"
        }
      ]
    },
    {
      "cell_type": "markdown",
      "metadata": {
        "id": "C8p3CAucqPru"
      },
      "source": [
        "Let's explore one of these sentenes.\n",
        "\n",
        "We print here for every token in the sentence, the:\n",
        "   \n",
        "*   part-of-speech (POS),\n",
        "*   the dependency parsing name (nk - Noun Kernel, mnr, manner, etc.)\n",
        "*   and to which word they are connected to in the grammar context parsing tree (the clause head)"
      ]
    },
    {
      "cell_type": "code",
      "metadata": {
        "id": "EZWI2Nj2qQo4",
        "outputId": "99621741-f1ea-4829-dac4-9027b7a0aac6",
        "colab": {
          "base_uri": "https://localhost:8080/"
        }
      },
      "source": [
        "for token in list(doc.sents)[11]:\n",
        "  print(token.text, token.pos_, token.dep_, token.head.text)"
      ],
      "execution_count": 6,
      "outputs": [
        {
          "output_type": "stream",
          "text": [
            "Leaders NOUN nsubj sending\n",
            "of ADP prep Leaders\n",
            "industry NOUN compound groups\n",
            "groups NOUN pobj of\n",
            "also ADV advmod sending\n",
            "are AUX aux sending\n",
            "sending VERB ROOT sending\n",
            "word NOUN dobj sending\n",
            "of ADP prep word\n",
            "their DET poss support\n",
            "support NOUN pobj of\n",
            "to ADP prep sending\n",
            "the DET det administration\n",
            "incoming ADJ amod administration\n",
            "administration NOUN pobj to\n",
            ". PUNCT punct sending\n",
            "\n",
            " SPACE  .\n"
          ],
          "name": "stdout"
        }
      ]
    },
    {
      "cell_type": "markdown",
      "metadata": {
        "id": "jJCanVymrA7l"
      },
      "source": [
        "spaCy includes NER parser built in, which already ran over the tokenized sentence. \n",
        "\n",
        "Let's see what it captured:"
      ]
    },
    {
      "cell_type": "code",
      "metadata": {
        "id": "R-ciJKGmrCTs",
        "outputId": "21b790e9-be4a-439d-ee3f-ca6ffe67269c",
        "colab": {
          "base_uri": "https://localhost:8080/"
        }
      },
      "source": [
        "for ent in doc.ents:\n",
        "  print(ent.text, ent.label_)"
      ],
      "execution_count": 7,
      "outputs": [
        {
          "output_type": "stream",
          "text": [
            "Saturday DATE\n",
            "Joe Biden PERSON\n",
            "U.S. GPE\n",
            "Jamie Dimon PERSON\n",
            "JPMorgan Chase ORG\n",
            "JPM ORG\n",
            "Sheryl Sandberg PERSON\n",
            "America GPE\n",
            "Kamala Harris PERSON\n",
            "Sandberg PERSON\n",
            "Corporate America ORG\n",
            "Biden FAC\n",
            "the Yale School of Management ORG\n",
            "late September DATE\n",
            "77% PERCENT\n",
            "Biden LOC\n",
            "More than 60% PERCENT\n",
            "The American Bankers Association ORG\n",
            "Rob Nichols PERSON\n",
            "Biden PERSON\n",
            "Americans NORP\n",
            "US GPE\n",
            "Chamber of Commerce ORG\n",
            "Thomas J. Donohue PERSON\n",
            "Biden PERSON\n",
            "American NORP\n",
            "Chamber PERSON\n",
            "National Association of Manufacturers ORG\n",
            "Jay Timmons PERSON\n",
            "American NORP\n"
          ],
          "name": "stdout"
        }
      ]
    },
    {
      "cell_type": "markdown",
      "metadata": {
        "id": "BtGAj4vjrF8r"
      },
      "source": [
        "Not all is accurate - as Chamber should have been tagged as ORG, not PER.\n",
        "\n",
        "However, these mistakes and confusions are very common, and we have to learn how to work our way around them."
      ]
    },
    {
      "cell_type": "markdown",
      "metadata": {
        "id": "bdg9HR2WrWgC"
      },
      "source": [
        "## spaCy Matcher"
      ]
    },
    {
      "cell_type": "markdown",
      "metadata": {
        "id": "iyrhINI8khNz"
      },
      "source": [
        "Remind yourself the RegEx from day 1.\n",
        "\n",
        "spaCy's power is a similar regEx, but that can capture also other language phenomenons, such as POS, or NER labels:\n",
        "https://spacy.io/usage/rule-based-matching\n",
        "\n",
        "Let's activate it on the vocabulary:"
      ]
    },
    {
      "cell_type": "code",
      "metadata": {
        "id": "zbcjPdvurVwo"
      },
      "source": [
        "# Instantiate the matcher over the trained vocabulary:\n",
        "matcher = Matcher(nlp.vocab)"
      ],
      "execution_count": 8,
      "outputs": []
    },
    {
      "cell_type": "markdown",
      "metadata": {
        "id": "dCU3dVLrre5Z"
      },
      "source": [
        "Let's create a simple pattern, and activate it on the text:"
      ]
    },
    {
      "cell_type": "code",
      "metadata": {
        "id": "dz3rhTNIu0pl"
      },
      "source": [
        "pattern = [\n",
        "           {\"POS\": \"NOUN\"},\n",
        "          {\"POS\": \"ADP\"},\n",
        "          {\"POS\": \"NOUN\"},\n",
        "      ]"
      ],
      "execution_count": 9,
      "outputs": []
    },
    {
      "cell_type": "code",
      "metadata": {
        "id": "YMGK-DyHraJ9",
        "outputId": "b960ff13-a495-4c20-b6d1-06db33c75213",
        "colab": {
          "base_uri": "https://localhost:8080/"
        }
      },
      "source": [
        "matcher.add(\"POS\", None, pattern)\n",
        "\n",
        "matches = matcher(doc)\n",
        "\n",
        "for match_id, start, end in matches:\n",
        "\n",
        "    print(\"Match found:\", doc[start:end].text)"
      ],
      "execution_count": 10,
      "outputs": [
        {
          "output_type": "stream",
          "text": [
            "Match found: time for unity\n",
            "Match found: transition of power\n",
            "Match found: survey of CEOs\n",
            "Match found: % of participants\n",
            "Match found: Leaders of industry\n"
          ],
          "name": "stdout"
        }
      ]
    },
    {
      "cell_type": "markdown",
      "metadata": {
        "id": "-zhJRpODqTK2"
      },
      "source": [
        "# Data Exploration with spaCy"
      ]
    },
    {
      "cell_type": "markdown",
      "metadata": {
        "id": "qkqUwE_A0X1c"
      },
      "source": [
        "Your Turn:\n",
        "\n",
        "The text contains many mentions of people and their role. See if you can capture these phrases of:\n",
        "\n",
        "**A, role of C**\n",
        "\n",
        "examples: \n",
        "* Facebook (FB) COO Sheryl Sandberg\n",
        "* US Chamber of Commerce CEO Thomas J. Donohue said  ...\n",
        "\n",
        "> Hint: you can also use the NER outcome. Check out the documentations for more details: https://spacy.io/usage/rule-based-matching\n"
      ]
    },
    {
      "cell_type": "code",
      "metadata": {
        "id": "RrRhzrLQsoSu"
      },
      "source": [
        ""
      ],
      "execution_count": 10,
      "outputs": []
    }
  ]
}